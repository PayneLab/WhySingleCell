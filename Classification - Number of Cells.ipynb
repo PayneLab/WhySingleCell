{
  "nbformat": 4,
  "nbformat_minor": 0,
  "metadata": {
    "colab": {
      "provenance": []
    },
    "kernelspec": {
      "name": "python3",
      "display_name": "Python 3"
    },
    "language_info": {
      "name": "python"
    }
  },
  "cells": [
    {
      "cell_type": "code",
      "source": [
        "## EDIT THIS CELL\n",
        "x = 5      # Replace with the minimum number of times you want to sample your rarest cell type\n",
        "p = 0.4    # Replace with the concentration of the rarest subtype in the form of a percent (0-100), ex. I would put 4 if the rarest cell type made up 4% of my sample\n",
        "P = 99     # Replace this with the desired probability of sampling your rarest subtype x times in the form of a percent (0-100), ex. I would put 99 if I wanted a 99% probability of sampling the rarest subtype x times\n",
        "d = 0      # Replace this with the expected sample dropout rate in the form of a percent (0-100), ex. I would put 15 if I expected 15% of my samples to end up not being viable enough for measurement"
      ],
      "metadata": {
        "id": "IFJ4KHAs5dxQ"
      },
      "execution_count": 1,
      "outputs": []
    },
    {
      "cell_type": "code",
      "execution_count": 2,
      "metadata": {
        "id": "uu-RqxYB5Hgg"
      },
      "outputs": [],
      "source": [
        "%load_ext rpy2.ipython\n",
        "import math\n",
        "import numpy as np\n",
        "import textwrap"
      ]
    },
    {
      "cell_type": "code",
      "source": [
        "def find_n_guarantee(P = int, low = 0, high = 100000, x = int, p = int):\n",
        "  # print(f\"Low: {low}\")\n",
        "  # print(f\"High: {high}\")\n",
        "\n",
        "  ## Base case\n",
        "  if high >= low:\n",
        "    n = (high + low) // 2\n",
        "    # print(f\"n: {n}\")\n",
        "\n",
        "    %Rpush x\n",
        "    %Rpush n\n",
        "    %Rpush p\n",
        "    %R -o prob prob = 1 - pbinom(x, size = n, prob = p)\n",
        "\n",
        "    result = prob[0]\n",
        "    # print(f\"Prob: {result}\")\n",
        "\n",
        "    if result == 1:\n",
        "      return find_n(P, low, n - 1, x, p)\n",
        "    else:\n",
        "      return find_n(P, n + 1, high, x, p)\n",
        "\n",
        "  else:\n",
        "    return math.ceil((high + low) / 2)"
      ],
      "metadata": {
        "id": "EwEvjPxJLIjP"
      },
      "execution_count": 3,
      "outputs": []
    },
    {
      "cell_type": "code",
      "source": [
        "def find_n(P = int, low = 0, high = 100000, x = int, p = int):\n",
        "  # print(f\"Low: {low}\")\n",
        "  # print(f\"High: {high}\")\n",
        "\n",
        "  if P == 1:\n",
        "    return find_n_guarantee(P = P, low = low, high = high, x = x, p = p)\n",
        "\n",
        "  ## Base case\n",
        "  if high >= low:\n",
        "    n = (high + low) // 2\n",
        "    # print(f\"n: {n}\")\n",
        "\n",
        "    %Rpush x\n",
        "    %Rpush n\n",
        "    %Rpush p\n",
        "    %R -o prob prob = 1 - pbinom(x, size = n, prob = p)\n",
        "\n",
        "    result = prob[0]\n",
        "    # print(f\"Prob: {result}\")\n",
        "\n",
        "    if result == P:\n",
        "      return n\n",
        "    elif result > P:\n",
        "      return find_n(P, low, n - 1, x, p)\n",
        "    else:\n",
        "      return find_n(P, n + 1, high, x, p)\n",
        "\n",
        "  else:\n",
        "    return math.ceil((high + low) / 2)"
      ],
      "metadata": {
        "id": "0tI8ZHq4-Zvr"
      },
      "execution_count": 4,
      "outputs": []
    },
    {
      "cell_type": "code",
      "source": [
        "def adjust_n(n = int, d = float):\n",
        "  return math.ceil(n / (1 - d))"
      ],
      "metadata": {
        "id": "JhMrvc5-l1CR"
      },
      "execution_count": 5,
      "outputs": []
    },
    {
      "cell_type": "code",
      "source": [
        "n = find_n(P = P / 100, x = x, p = p / 100)  # Fix this to adjust high based on p\n",
        "n_adj = adjust_n(n = n, d = d / 100)\n",
        "\n",
        "print(textwrap.fill(f\"In an 'infinite' population, the number of cells you need to randomly select and measure to have a {P}% probability of sampling each cell type at least {x:,} time(s) is {n_adj:,}, adjusting for sample dropout.\", 60))"
      ],
      "metadata": {
        "id": "fOvd_3tr7Lct",
        "colab": {
          "base_uri": "https://localhost:8080/"
        },
        "outputId": "aadad9f4-3441-4244-fd85-ed4cb84f8fe8"
      },
      "execution_count": 7,
      "outputs": [
        {
          "output_type": "stream",
          "name": "stdout",
          "text": [
            "In an 'infinite' population, the number of cells you need to\n",
            "randomly select and measure to have a 99% probability of\n",
            "sampling each cell type at least 5 time(s) is 3,274,\n",
            "adjusting for sample dropout.\n"
          ]
        }
      ]
    }
  ]
}